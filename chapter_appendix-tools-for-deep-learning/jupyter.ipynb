{
  "cells": [
    {
      "cell_type": "code",
      "source": [
        "from pycaret.classification import *"
      ],
      "metadata": {
        "id": "AhAAdTB_nx7V"
      },
      "id": "AhAAdTB_nx7V",
      "execution_count": 1,
      "outputs": []
    },
    {
      "cell_type": "code",
      "source": [
        "import pandas as pd\n",
        "data=pd.read_csv('heart.csv')"
      ],
      "metadata": {
        "id": "MPs_xJivo8Ga"
      },
      "id": "MPs_xJivo8Ga",
      "execution_count": 2,
      "outputs": []
    },
    {
      "cell_type": "code",
      "source": [
        "setup(data=data,target='target',session_id=123)"
      ],
      "metadata": {
        "id": "znugAeOMpQrx",
        "outputId": "69886b47-8c76-44c2-bcf9-0f8ee6945880",
        "colab": {
          "base_uri": "https://localhost:8080/",
          "height": 662
        }
      },
      "id": "znugAeOMpQrx",
      "execution_count": 3,
      "outputs": [
        {
          "output_type": "display_data",
          "data": {
            "text/plain": [
              "<pandas.io.formats.style.Styler at 0x7d65bb7ab850>"
            ],
            "text/html": [
              "<style type=\"text/css\">\n",
              "#T_5c5ad_row8_col1 {\n",
              "  background-color: lightgreen;\n",
              "}\n",
              "</style>\n",
              "<table id=\"T_5c5ad\" class=\"dataframe\">\n",
              "  <thead>\n",
              "    <tr>\n",
              "      <th class=\"blank level0\" >&nbsp;</th>\n",
              "      <th id=\"T_5c5ad_level0_col0\" class=\"col_heading level0 col0\" >Description</th>\n",
              "      <th id=\"T_5c5ad_level0_col1\" class=\"col_heading level0 col1\" >Value</th>\n",
              "    </tr>\n",
              "  </thead>\n",
              "  <tbody>\n",
              "    <tr>\n",
              "      <th id=\"T_5c5ad_level0_row0\" class=\"row_heading level0 row0\" >0</th>\n",
              "      <td id=\"T_5c5ad_row0_col0\" class=\"data row0 col0\" >Session id</td>\n",
              "      <td id=\"T_5c5ad_row0_col1\" class=\"data row0 col1\" >123</td>\n",
              "    </tr>\n",
              "    <tr>\n",
              "      <th id=\"T_5c5ad_level0_row1\" class=\"row_heading level0 row1\" >1</th>\n",
              "      <td id=\"T_5c5ad_row1_col0\" class=\"data row1 col0\" >Target</td>\n",
              "      <td id=\"T_5c5ad_row1_col1\" class=\"data row1 col1\" >target</td>\n",
              "    </tr>\n",
              "    <tr>\n",
              "      <th id=\"T_5c5ad_level0_row2\" class=\"row_heading level0 row2\" >2</th>\n",
              "      <td id=\"T_5c5ad_row2_col0\" class=\"data row2 col0\" >Target type</td>\n",
              "      <td id=\"T_5c5ad_row2_col1\" class=\"data row2 col1\" >Binary</td>\n",
              "    </tr>\n",
              "    <tr>\n",
              "      <th id=\"T_5c5ad_level0_row3\" class=\"row_heading level0 row3\" >3</th>\n",
              "      <td id=\"T_5c5ad_row3_col0\" class=\"data row3 col0\" >Original data shape</td>\n",
              "      <td id=\"T_5c5ad_row3_col1\" class=\"data row3 col1\" >(1025, 14)</td>\n",
              "    </tr>\n",
              "    <tr>\n",
              "      <th id=\"T_5c5ad_level0_row4\" class=\"row_heading level0 row4\" >4</th>\n",
              "      <td id=\"T_5c5ad_row4_col0\" class=\"data row4 col0\" >Transformed data shape</td>\n",
              "      <td id=\"T_5c5ad_row4_col1\" class=\"data row4 col1\" >(1025, 14)</td>\n",
              "    </tr>\n",
              "    <tr>\n",
              "      <th id=\"T_5c5ad_level0_row5\" class=\"row_heading level0 row5\" >5</th>\n",
              "      <td id=\"T_5c5ad_row5_col0\" class=\"data row5 col0\" >Transformed train set shape</td>\n",
              "      <td id=\"T_5c5ad_row5_col1\" class=\"data row5 col1\" >(717, 14)</td>\n",
              "    </tr>\n",
              "    <tr>\n",
              "      <th id=\"T_5c5ad_level0_row6\" class=\"row_heading level0 row6\" >6</th>\n",
              "      <td id=\"T_5c5ad_row6_col0\" class=\"data row6 col0\" >Transformed test set shape</td>\n",
              "      <td id=\"T_5c5ad_row6_col1\" class=\"data row6 col1\" >(308, 14)</td>\n",
              "    </tr>\n",
              "    <tr>\n",
              "      <th id=\"T_5c5ad_level0_row7\" class=\"row_heading level0 row7\" >7</th>\n",
              "      <td id=\"T_5c5ad_row7_col0\" class=\"data row7 col0\" >Numeric features</td>\n",
              "      <td id=\"T_5c5ad_row7_col1\" class=\"data row7 col1\" >13</td>\n",
              "    </tr>\n",
              "    <tr>\n",
              "      <th id=\"T_5c5ad_level0_row8\" class=\"row_heading level0 row8\" >8</th>\n",
              "      <td id=\"T_5c5ad_row8_col0\" class=\"data row8 col0\" >Preprocess</td>\n",
              "      <td id=\"T_5c5ad_row8_col1\" class=\"data row8 col1\" >True</td>\n",
              "    </tr>\n",
              "    <tr>\n",
              "      <th id=\"T_5c5ad_level0_row9\" class=\"row_heading level0 row9\" >9</th>\n",
              "      <td id=\"T_5c5ad_row9_col0\" class=\"data row9 col0\" >Imputation type</td>\n",
              "      <td id=\"T_5c5ad_row9_col1\" class=\"data row9 col1\" >simple</td>\n",
              "    </tr>\n",
              "    <tr>\n",
              "      <th id=\"T_5c5ad_level0_row10\" class=\"row_heading level0 row10\" >10</th>\n",
              "      <td id=\"T_5c5ad_row10_col0\" class=\"data row10 col0\" >Numeric imputation</td>\n",
              "      <td id=\"T_5c5ad_row10_col1\" class=\"data row10 col1\" >mean</td>\n",
              "    </tr>\n",
              "    <tr>\n",
              "      <th id=\"T_5c5ad_level0_row11\" class=\"row_heading level0 row11\" >11</th>\n",
              "      <td id=\"T_5c5ad_row11_col0\" class=\"data row11 col0\" >Categorical imputation</td>\n",
              "      <td id=\"T_5c5ad_row11_col1\" class=\"data row11 col1\" >mode</td>\n",
              "    </tr>\n",
              "    <tr>\n",
              "      <th id=\"T_5c5ad_level0_row12\" class=\"row_heading level0 row12\" >12</th>\n",
              "      <td id=\"T_5c5ad_row12_col0\" class=\"data row12 col0\" >Fold Generator</td>\n",
              "      <td id=\"T_5c5ad_row12_col1\" class=\"data row12 col1\" >StratifiedKFold</td>\n",
              "    </tr>\n",
              "    <tr>\n",
              "      <th id=\"T_5c5ad_level0_row13\" class=\"row_heading level0 row13\" >13</th>\n",
              "      <td id=\"T_5c5ad_row13_col0\" class=\"data row13 col0\" >Fold Number</td>\n",
              "      <td id=\"T_5c5ad_row13_col1\" class=\"data row13 col1\" >10</td>\n",
              "    </tr>\n",
              "    <tr>\n",
              "      <th id=\"T_5c5ad_level0_row14\" class=\"row_heading level0 row14\" >14</th>\n",
              "      <td id=\"T_5c5ad_row14_col0\" class=\"data row14 col0\" >CPU Jobs</td>\n",
              "      <td id=\"T_5c5ad_row14_col1\" class=\"data row14 col1\" >-1</td>\n",
              "    </tr>\n",
              "    <tr>\n",
              "      <th id=\"T_5c5ad_level0_row15\" class=\"row_heading level0 row15\" >15</th>\n",
              "      <td id=\"T_5c5ad_row15_col0\" class=\"data row15 col0\" >Use GPU</td>\n",
              "      <td id=\"T_5c5ad_row15_col1\" class=\"data row15 col1\" >False</td>\n",
              "    </tr>\n",
              "    <tr>\n",
              "      <th id=\"T_5c5ad_level0_row16\" class=\"row_heading level0 row16\" >16</th>\n",
              "      <td id=\"T_5c5ad_row16_col0\" class=\"data row16 col0\" >Log Experiment</td>\n",
              "      <td id=\"T_5c5ad_row16_col1\" class=\"data row16 col1\" >False</td>\n",
              "    </tr>\n",
              "    <tr>\n",
              "      <th id=\"T_5c5ad_level0_row17\" class=\"row_heading level0 row17\" >17</th>\n",
              "      <td id=\"T_5c5ad_row17_col0\" class=\"data row17 col0\" >Experiment Name</td>\n",
              "      <td id=\"T_5c5ad_row17_col1\" class=\"data row17 col1\" >clf-default-name</td>\n",
              "    </tr>\n",
              "    <tr>\n",
              "      <th id=\"T_5c5ad_level0_row18\" class=\"row_heading level0 row18\" >18</th>\n",
              "      <td id=\"T_5c5ad_row18_col0\" class=\"data row18 col0\" >USI</td>\n",
              "      <td id=\"T_5c5ad_row18_col1\" class=\"data row18 col1\" >253f</td>\n",
              "    </tr>\n",
              "  </tbody>\n",
              "</table>\n"
            ]
          },
          "metadata": {}
        },
        {
          "output_type": "execute_result",
          "data": {
            "text/plain": [
              "<pycaret.classification.oop.ClassificationExperiment at 0x7d65bfe35090>"
            ]
          },
          "metadata": {},
          "execution_count": 3
        }
      ]
    },
    {
      "cell_type": "code",
      "source": [],
      "metadata": {
        "id": "2FPyl5WNpivX"
      },
      "id": "2FPyl5WNpivX",
      "execution_count": null,
      "outputs": []
    }
  ],
  "metadata": {
    "kernelspec": {
      "display_name": "Python 3",
      "name": "python3"
    },
    "language_info": {
      "name": "python"
    },
    "required_libs": [],
    "colab": {
      "provenance": []
    }
  },
  "nbformat": 4,
  "nbformat_minor": 5
}